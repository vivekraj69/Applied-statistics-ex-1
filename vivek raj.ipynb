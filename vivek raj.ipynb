{
 "cells": [
  {
   "cell_type": "code",
   "execution_count": 1,
   "id": "dae34d1c-32a7-4350-89d6-2badc8515231",
   "metadata": {},
   "outputs": [
    {
     "name": "stdout",
     "output_type": "stream",
     "text": [
      "<class 'numpy.ndarray'>\n",
      "(3,)\n",
      "<class 'numpy.ndarray'>\n",
      "[3 4 5]\n",
      "1 2 3\n"
     ]
    }
   ],
   "source": [
    "import numpy as np\n",
    "a = np.array([1,2,3])\n",
    "b = np.array([3,4,5])\n",
    "print(type(a))\n",
    "print(a.shape)\n",
    "print(type(b))\n",
    "print(b)\n",
    "print(a[0],a[1],a[2])"
   ]
  },
  {
   "cell_type": "code",
   "execution_count": 3,
   "id": "dbec59ad-5670-4470-80ba-5d41e60c7504",
   "metadata": {},
   "outputs": [
    {
     "name": "stdout",
     "output_type": "stream",
     "text": [
      "[5 2 3]\n",
      "(2, 3)\n",
      "1 2 4\n"
     ]
    }
   ],
   "source": [
    "a[0]=5\n",
    "print(a)\n",
    "b = np.array([[1,2,3],[4,5,6]])\n",
    "print(b.shape)\n",
    "#Representation of the 2-D array\n",
    "print(b[0,0],b[0,1],b[1,0])"
   ]
  },
  {
   "cell_type": "code",
   "execution_count": 5,
   "id": "e6d2f253-2763-49f0-b912-d25c22a0e593",
   "metadata": {},
   "outputs": [
    {
     "name": "stdout",
     "output_type": "stream",
     "text": [
      "2\n",
      "2\n",
      "[[ 1  2  3  4]\n",
      " [ 5  6  7  8]\n",
      " [ 9 10 11 12]]\n",
      "[[2 3]\n",
      " [6 7]]\n",
      "[[2]\n",
      " [6]]\n",
      "[[ 9 10]]\n",
      "[[2 3 4]\n",
      " [6 7 8]]\n"
     ]
    }
   ],
   "source": [
    "#Array sclicing \n",
    "import numpy as np\n",
    "#[[1 2 3 4 ]\n",
    "#[5 6 7 8 ]\n",
    "#[9 10 11 12]]\n",
    "a=np.array(([1,2,3,4],[5,6,7,8],[9,10,11,12]))\n",
    "b=a[:2, 1:3]\n",
    "print(a[0,1])\n",
    "b=a[:2,1:3]\n",
    "print(a[0,1])\n",
    "print(a[:,:])\n",
    "print(a[:2,1:3])\n",
    "print(a[0:2,1:2])\n",
    "print(a[2:3,0:2])\n",
    "print(a[:2,1:])"
   ]
  },
  {
   "cell_type": "code",
   "execution_count": 7,
   "id": "02e76168-729a-436b-b27e-ae4fc80f9a6c",
   "metadata": {},
   "outputs": [
    {
     "name": "stdout",
     "output_type": "stream",
     "text": [
      "[[0. 0.]\n",
      " [0. 0.]]\n",
      "[[1. 1. 1.]\n",
      " [1. 1. 1.]]\n",
      "[[7 7 7 7 7]\n",
      " [7 7 7 7 7]\n",
      " [7 7 7 7 7]]\n",
      "[[1. 0.]\n",
      " [0. 1.]]\n",
      "[[0.81957594 0.98630885]\n",
      " [0.25072734 0.07990639]]\n"
     ]
    }
   ],
   "source": [
    "#Numpy also provides many functions to cresate an arrays:\n",
    "\n",
    "import numpy as np\n",
    "a = np.zeros((2,2)) #Create an array of all zeroes.(replacing the missing values)\n",
    "print(a)\n",
    "\n",
    "b = np.ones((2,3))  #Create an array of all ones\n",
    "print(b)\n",
    "\n",
    "c = np.full((3,5),7) #Create a constant array\n",
    "print(c)\n",
    "\n",
    "d = np.eye(2)      #Creating a 2x2 identity matrix\n",
    "print(d)\n",
    "\n",
    "e = np.random.random((2,2)) #Creating an array filled with random values (Pseudorandom number generator)\n",
    "print(e)"
   ]
  },
  {
   "cell_type": "code",
   "execution_count": 26,
   "id": "2373b0f2-f366-4512-b793-3042ebc71529",
   "metadata": {},
   "outputs": [
    {
     "name": "stdout",
     "output_type": "stream",
     "text": [
      "[0.         0.22222222 0.44444444 0.66666667 0.88888889 1.11111111\n",
      " 1.33333333 1.55555556 1.77777778 2.        ]\n"
     ]
    }
   ],
   "source": [
    "# numpy.linspace(start, stop, num=50, endpoint=True , retstep=False, dtype=None, axis=0)\n",
    "f = np.linspace(0, 2, 10)\n",
    "print(f)"
   ]
  },
  {
   "cell_type": "code",
   "execution_count": 9,
   "id": "1c64bf91-5cc8-4d0b-bef6-d6b87cf9cfa9",
   "metadata": {},
   "outputs": [
    {
     "name": "stdout",
     "output_type": "stream",
     "text": [
      "[1 4 5]\n",
      "[1 4 5]\n",
      "[2 2]\n",
      "[2 2]\n"
     ]
    }
   ],
   "source": [
    "a=np.array([[1,2],[3,4],[5,6]])\n",
    "print(a[[0,1,2],[0,1,0]])\n",
    "print(np.array([a[0,0], a[1,1], a[2,0]]))\n",
    "print(a[[0,0],[1,1]])\n",
    "print(np.array([a[0,1], a[0,1]]))"
   ]
  },
  {
   "cell_type": "code",
   "execution_count": 11,
   "id": "e8bd2eb4-eb6d-4a38-b6bf-1730c6746f60",
   "metadata": {},
   "outputs": [
    {
     "name": "stdout",
     "output_type": "stream",
     "text": [
      "[[ 1  2  3]\n",
      " [ 4  5  6]\n",
      " [ 7  8  9]\n",
      " [10 11 12]]\n",
      "[ 1  6  7 11]\n",
      "[[ 1  2  3]\n",
      " [ 4  5  6]\n",
      " [ 7  8  9]\n",
      " [10 11 12]]\n"
     ]
    }
   ],
   "source": [
    "a=np.array([[1,2,3],[4,5,6],[7,8,9],[10,11,12]])\n",
    "print(a)\n",
    "b= np.array([0,2,0,1])\n",
    "print(a[np.arange(4),b])\n",
    "a[np.arange(4),b]\n",
    "print(a)"
   ]
  },
  {
   "cell_type": "code",
   "execution_count": 13,
   "id": "c546cc40-33a9-4438-9e23-c747a92aa640",
   "metadata": {},
   "outputs": [
    {
     "name": "stdout",
     "output_type": "stream",
     "text": [
      "[[False False]\n",
      " [ True  True]\n",
      " [ True  True]]\n",
      "[3 4 5 6]\n"
     ]
    }
   ],
   "source": [
    "a=np.array([[1,2],[3,4],[5,6]])\n",
    "bool_idx = (a>2)\n",
    "print(bool_idx)\n",
    "print(a[bool_idx])"
   ]
  },
  {
   "cell_type": "code",
   "execution_count": 15,
   "id": "65013704-b3ae-4676-8bfd-5f024e3d02ce",
   "metadata": {},
   "outputs": [
    {
     "name": "stdout",
     "output_type": "stream",
     "text": [
      "int32\n",
      "float64\n",
      "int64\n"
     ]
    }
   ],
   "source": [
    "x= np.array([1,2])\n",
    "print(x.dtype)\n",
    "x=np.array([1.0,2.0])\n",
    "print(x.dtype)\n",
    "x=np.array([1,2], dtype=np.int64)\n",
    "print(x.dtype)"
   ]
  },
  {
   "cell_type": "code",
   "execution_count": 20,
   "id": "5ab07b24-7f88-4d0a-88c5-080ed3289ea1",
   "metadata": {},
   "outputs": [
    {
     "name": "stdout",
     "output_type": "stream",
     "text": [
      "[[ 6.  8.]\n",
      " [10. 12.]]\n",
      "[[ 6.  8.]\n",
      " [10. 12.]]\n",
      "[[-4. -4.]\n",
      " [-4. -4.]]\n",
      "[[-4. -4.]\n",
      " [-4. -4.]]\n",
      "[[ 5. 12.]\n",
      " [21. 32.]]\n",
      "[[ 5. 12.]\n",
      " [21. 32.]]\n",
      "[[0.2        0.33333333]\n",
      " [0.42857143 0.5       ]]\n",
      "[[1.         1.41421356]\n",
      " [1.73205081 2.        ]]\n"
     ]
    }
   ],
   "source": [
    "x= np.array([[1,2],[3,4]],dtype=np.float64)\n",
    "y= np.array([[5,6],[7,8]],dtype=np.float64)\n",
    "print(x+y)\n",
    "print(np.add(x,y))\n",
    "print(x-y)\n",
    "print(np.subtract(x,y))\n",
    "print(x*y)\n",
    "print(np.multiply(x,y))\n",
    "print(np.divide(x,y))\n",
    "print(np.sqrt(x))\n"
   ]
  },
  {
   "cell_type": "code",
   "execution_count": 22,
   "id": "035438a7-19f6-4faa-96cb-a723966793a1",
   "metadata": {},
   "outputs": [
    {
     "name": "stdout",
     "output_type": "stream",
     "text": [
      "[[1 2]\n",
      " [3 4]]\n",
      "[[1 3]\n",
      " [2 4]]\n",
      "[1 2 3]\n",
      "[1 2 3]\n"
     ]
    }
   ],
   "source": [
    "x=np.array([[1,2],[3,4]])\n",
    "print(x)\n",
    "print(x.T)\n",
    "v=np.array([1,2,3])\n",
    "print(v)\n",
    "print(v.T)"
   ]
  },
  {
   "cell_type": "code",
   "execution_count": 24,
   "id": "6c4ec964-2048-48d7-b33d-b8638a99c5f1",
   "metadata": {},
   "outputs": [
    {
     "name": "stdout",
     "output_type": "stream",
     "text": [
      "The Original Array is:\n",
      " [ 0  1  2  3  4  5  6  7  8  9 10 11 12 13 14 15]\n",
      "The Reshaped array is:\n",
      " [[ 0  1  2  3  4  5  6  7]\n",
      " [ 8  9 10 11 12 13 14 15]]\n"
     ]
    }
   ],
   "source": [
    "import numpy as np\n",
    "arr = np.arange(16)\n",
    "print(\"The Original Array is:\\n\",arr)\n",
    "arr1 = np.arange(16).reshape(2,8)\n",
    "print(\"The Reshaped array is:\\n\",arr1)"
   ]
  },
  {
   "cell_type": "code",
   "execution_count": 28,
   "id": "6740966f-6976-4eec-a173-1fdae1c2012a",
   "metadata": {},
   "outputs": [
    {
     "name": "stdout",
     "output_type": "stream",
     "text": [
      "Eigenvalues: [2.61803399 0.38196601]\n",
      "Eigenvectors: [[ 0.85065081 -0.52573111]\n",
      " [ 0.52573111  0.85065081]]\n"
     ]
    }
   ],
   "source": [
    "#eigen values \n",
    "#eigen vectors\n",
    "import numpy as np\n",
    "\n",
    "#a square matrix (2x2 in this case)\n",
    "A = np.array([[2, 1], [1, 1]])\n",
    "\n",
    "eigenvalues, eigenvectors = np.linalg.eig(A)\n",
    "\n",
    "print(\"Eigenvalues:\", eigenvalues)\n",
    "print(\"Eigenvectors:\", eigenvectors)"
   ]
  },
  {
   "cell_type": "code",
   "execution_count": null,
   "id": "7ce44496-b894-47e5-8136-82c1b86e3339",
   "metadata": {},
   "outputs": [],
   "source": []
  }
 ],
 "metadata": {
  "kernelspec": {
   "display_name": "Python 3 (ipykernel)",
   "language": "python",
   "name": "python3"
  },
  "language_info": {
   "codemirror_mode": {
    "name": "ipython",
    "version": 3
   },
   "file_extension": ".py",
   "mimetype": "text/x-python",
   "name": "python",
   "nbconvert_exporter": "python",
   "pygments_lexer": "ipython3",
   "version": "3.11.7"
  }
 },
 "nbformat": 4,
 "nbformat_minor": 5
}
